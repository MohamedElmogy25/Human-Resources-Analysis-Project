{
 "cells": [
  {
   "cell_type": "code",
   "execution_count": 2,
   "metadata": {},
   "outputs": [],
   "source": [
    "import pandas as pd\n",
    "\n",
    "# Load Excel file\n",
    "file_path = 'D:/Data analysis depi/project/HR Datasets/project.xlsx'\n",
    "excel_data = pd.ExcelFile(file_path)"
   ]
  },
  {
   "cell_type": "markdown",
   "metadata": {},
   "source": [
    "1- Loads the Excel file and reads the sheets."
   ]
  },
  {
   "cell_type": "code",
   "execution_count": 3,
   "metadata": {},
   "outputs": [],
   "source": [
    "# Step 1: Load and clean individual sheets\n",
    "satisfaction = excel_data.parse('SatisfiedLevel')\n",
    "rating = excel_data.parse('RatingLevel')\n",
    "education = excel_data.parse('EducationLevel')\n",
    "performance = excel_data.parse('PerformanceRating')\n",
    "employee = excel_data.parse('Employee')"
   ]
  },
  {
   "cell_type": "markdown",
   "metadata": {},
   "source": [
    "2- Standardizes column names for consistency."
   ]
  },
  {
   "cell_type": "code",
   "execution_count": 4,
   "metadata": {},
   "outputs": [],
   "source": [
    "# Step 2: Standardize column names for consistency\n",
    "def clean_columns(df):\n",
    "    df.columns = df.columns.str.strip().str.lower()\n",
    "    return df\n",
    "\n",
    "satisfaction = clean_columns(satisfaction)\n",
    "rating = clean_columns(rating)\n",
    "education = clean_columns(education)\n",
    "performance = clean_columns(performance)\n",
    "employee = clean_columns(employee)"
   ]
  },
  {
   "cell_type": "markdown",
   "metadata": {},
   "source": [
    "3- Merges related sheets using appropriate keys."
   ]
  },
  {
   "cell_type": "code",
   "execution_count": 5,
   "metadata": {},
   "outputs": [],
   "source": [
    "# Step 3: Merge performance data with related mappings\n",
    "# Merge satisfaction levels\n",
    "merged_data = performance.merge(satisfaction, left_on='environmentsatisfaction', right_on='satisfactionid', how='left')\n",
    "\n",
    "# Merge rating levels (e.g., manager rating)\n",
    "merged_data = merged_data.merge(rating, left_on='managerrating', right_on='ratingid', how='left')\n",
    "\n",
    "# Merge employee details\n",
    "merged_data = merged_data.merge(employee, on='employeeid', how='left')"
   ]
  },
  {
   "cell_type": "markdown",
   "metadata": {},
   "source": [
    "4- Converts date columns to datetime format."
   ]
  },
  {
   "cell_type": "code",
   "execution_count": 6,
   "metadata": {},
   "outputs": [],
   "source": [
    "# Step 4: Handle date formatting\n",
    "merged_data['reviewdate'] = pd.to_datetime(merged_data['reviewdate'], errors='coerce')\n",
    "merged_data['hiredate'] = pd.to_datetime(merged_data['hiredate'], errors='coerce')"
   ]
  },
  {
   "cell_type": "markdown",
   "metadata": {},
   "source": [
    "5- Saves the cleaned and merged dataset to a new Excel file."
   ]
  },
  {
   "cell_type": "code",
   "execution_count": 9,
   "metadata": {},
   "outputs": [
    {
     "name": "stdout",
     "output_type": "stream",
     "text": [
      "Cleaned dataset saved to cleaned_dataset.xlsx.\n"
     ]
    }
   ],
   "source": [
    "# Step 5: Save cleaned and merged data to a new file\n",
    "output_path = 'cleaned_dataset.xlsx'\n",
    "merged_data.to_excel(output_path, index=False)\n",
    "\n",
    "print(f\"Cleaned dataset saved to {output_path}.\")"
   ]
  }
 ],
 "metadata": {
  "kernelspec": {
   "display_name": "Python 3",
   "language": "python",
   "name": "python3"
  },
  "language_info": {
   "codemirror_mode": {
    "name": "ipython",
    "version": 3
   },
   "file_extension": ".py",
   "mimetype": "text/x-python",
   "name": "python",
   "nbconvert_exporter": "python",
   "pygments_lexer": "ipython3",
   "version": "3.12.6"
  }
 },
 "nbformat": 4,
 "nbformat_minor": 2
}
